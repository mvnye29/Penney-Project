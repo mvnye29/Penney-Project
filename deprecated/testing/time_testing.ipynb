{
 "cells": [
  {
   "cell_type": "code",
   "execution_count": 31,
   "metadata": {},
   "outputs": [],
   "source": [
    "import numpy as np\n",
    "import os\n",
    "from IPython.display import clear_output\n",
    "from time import time\n",
    "import matplotlib.pyplot as plt"
   ]
  },
  {
   "cell_type": "code",
   "execution_count": 62,
   "metadata": {},
   "outputs": [],
   "source": [
    "def generate_sequence(seed: int, seq: list) -> str:\n",
    "    '''Takes unshuffled deck as input and outputs string version of shuffled deck.''' \n",
    "    \n",
    "    np.random.seed(seed)\n",
    "    np.random.shuffle(seq)\n",
    "    return ''.join(map(str,seq))\n",
    "\n",
    "#need to run with 1,000,000 iterations\n",
    "def generate_data(n):\n",
    "    '''Takes in number of simulations to be run, and shuffles deck n times'''\n",
    "\n",
    "    # if(os.path.exists(\"deck_data.npy\")):\n",
    "    #     deck_data = np.load(\"deck_data.npy\", allow_pickle = True)\n",
    "    # else:\n",
    "    time_per_iter = []\n",
    "    deck_data = np.zeros((0, 2))\n",
    "    seed = deck_data.shape[0]\n",
    "    sequence = [1] * 26 + [0] * 26\n",
    "    for x in (range(n)):\n",
    "        if x%10000 == 0:\n",
    "            start = time()\n",
    "        np.random.seed(seed)\n",
    "        shuffled_deck = generate_sequence(seed, sequence)\n",
    "        new_row = np.array([seed, shuffled_deck], dtype=object)\n",
    "        deck_data = np.vstack([deck_data, new_row])\n",
    "        seed+=1\n",
    "        if x%10000 == 9999:\n",
    "            clear_output()\n",
    "            print(x)\n",
    "            time_per_iter += [(time() - start)]\n",
    "    print('done')\n",
    "    return deck_data, time_per_iter\n",
    "    #np.save(\"deck_data.npy\", deck_data)"
   ]
  },
  {
   "cell_type": "code",
   "execution_count": 66,
   "metadata": {},
   "outputs": [
    {
     "name": "stdout",
     "output_type": "stream",
     "text": [
      "299999\n",
      "done\n"
     ]
    }
   ],
   "source": [
    "deck_data, time_per_iter = generate_data(300000)"
   ]
  },
  {
   "cell_type": "code",
   "execution_count": 67,
   "metadata": {},
   "outputs": [
    {
     "data": {
      "text/plain": [
       "[0.7136650085449219,\n",
       " 1.4338469505310059,\n",
       " 2.238832712173462,\n",
       " 2.9891908168792725,\n",
       " 3.8785510063171387,\n",
       " 4.929413795471191,\n",
       " 6.009768962860107,\n",
       " 7.559298038482666,\n",
       " 8.8904869556427,\n",
       " 10.737520217895508,\n",
       " 12.545933246612549,\n",
       " 14.022450923919678,\n",
       " 15.892998933792114,\n",
       " 18.847516298294067,\n",
       " 21.204586029052734,\n",
       " 25.00301218032837,\n",
       " 27.49298882484436,\n",
       " 30.00538206100464,\n",
       " 31.651001691818237,\n",
       " 33.60464096069336,\n",
       " 33.016035079956055,\n",
       " 35.77035403251648,\n",
       " 35.66832375526428,\n",
       " 36.65161609649658,\n",
       " 40.12226724624634,\n",
       " 40.790342807769775,\n",
       " 40.65653896331787,\n",
       " 42.220538854599,\n",
       " 44.92324900627136,\n",
       " 45.0460159778595]"
      ]
     },
     "execution_count": 67,
     "metadata": {},
     "output_type": "execute_result"
    }
   ],
   "source": [
    "time_per_iter"
   ]
  },
  {
   "cell_type": "code",
   "execution_count": 69,
   "metadata": {},
   "outputs": [
    {
     "data": {
      "image/png": "[encoded data removed]",
      "text/plain": [
       "<Figure size 432x288 with 1 Axes>"
      ]
     },
     "metadata": {
      "needs_background": "light"
     },
     "output_type": "display_data"
    }
   ],
   "source": [
    "plt.bar(x = range(len(time_per_iter)),height = time_per_iter)\n",
    "plt.xlabel(\"# of Iterations (in 10,000s)\")\n",
    "plt.ylabel(\"Seconds per Iteration\")\n",
    "plt.show()"
   ]
  },
  {
   "cell_type": "code",
   "execution_count": 39,
   "metadata": {},
   "outputs": [
    {
     "data": {
      "text/plain": [
       "(10000, 2)"
      ]
     },
     "execution_count": 39,
     "metadata": {},
     "output_type": "execute_result"
    }
   ],
   "source": [
    "#deck_data.shape"
   ]
  },
  {
   "cell_type": "code",
   "execution_count": null,
   "metadata": {},
   "outputs": [],
   "source": [
    "def generate_data():\n",
    "     np.random.seed(123)\n",
    "\n",
    "results = []\n",
    "for i in tqdm(range(1000000)):\n",
    "    np.random.shuffle(deck)\n",
    "    results += [int(''.join(deck),2)]"
   ]
  },
  {
   "cell_type": "code",
   "execution_count": 83,
   "metadata": {},
   "outputs": [],
   "source": [
    "def generate_sequence(seed: int, seq: list) -> str:\n",
    "    '''Takes unshuffled deck as input and outputs string version of shuffled deck.''' \n",
    "    \n",
    "    np.random.seed(seed)\n",
    "    np.random.shuffle(seq)\n",
    "    return ''.join(seq)"
   ]
  },
  {
   "cell_type": "code",
   "execution_count": 86,
   "metadata": {},
   "outputs": [],
   "source": [
    "def generate_data2(n):\n",
    "    '''Takes in number of simulations to be run, and shuffles deck n times'''\n",
    "\n",
    "    if(os.path.exists(\"deck_data.npy\")):\n",
    "         deck_data = np.load(\"deck_data.npy\", allow_pickle = True)\n",
    "         seeds = list(deck_data[0])\n",
    "         decks = list(deck_data[1])\n",
    "    else:\n",
    "        seeds = []\n",
    "        decks = []\n",
    "\n",
    "    time_per_iter = []\n",
    "    seed = len(seeds)\n",
    "    sequence = ['1'] * 26 + ['0'] * 26\n",
    "\n",
    "    for i in (range(n)):\n",
    "        if i%10000 == 0:\n",
    "            start = time()\n",
    "        np.random.seed(seed)\n",
    "        shuffled_deck = generate_sequence(seed, sequence)\n",
    "        seeds += [seed]\n",
    "        decks += [shuffled_deck]\n",
    "\n",
    "        seed+=1\n",
    "        if i%10000 == 9999:\n",
    "            clear_output()\n",
    "            print(i + 1)\n",
    "            time_per_iter += [(time() - start)]\n",
    "    deck_data = np.array([seeds, decks])\n",
    "    \n",
    "    print('done')\n",
    "    return deck_data, time_per_iter"
   ]
  },
  {
   "cell_type": "code",
   "execution_count": 87,
   "metadata": {},
   "outputs": [
    {
     "name": "stdout",
     "output_type": "stream",
     "text": [
      "300000\n",
      "done\n"
     ]
    }
   ],
   "source": [
    "deck_data, time_per_iter = generate_data2(300000)"
   ]
  },
  {
   "cell_type": "code",
   "execution_count": 89,
   "metadata": {},
   "outputs": [
    {
     "data": {
      "text/plain": [
       "array([['0', '1', '2', ..., '299997', '299998', '299999'],\n",
       "       ['0010100001110000110010011010101111001101110111001100',\n",
       "        '1101111010100111011000011001100010101000101000110011',\n",
       "        '0110111111010001110001000001101101100100010101001011', ...,\n",
       "        '0100001001000011100110111011011010110101111100110000',\n",
       "        '0101001011100110011010101011001110010110100101000110',\n",
       "        '0100111001110101111001010011101100000001110001011001']],\n",
       "      dtype='<U52')"
      ]
     },
     "execution_count": 89,
     "metadata": {},
     "output_type": "execute_result"
    }
   ],
   "source": [
    "deck_data"
   ]
  },
  {
   "cell_type": "code",
   "execution_count": 90,
   "metadata": {},
   "outputs": [
    {
     "data": {
      "image/png": "[encoded data removed]",
      "text/plain": [
       "<Figure size 432x288 with 1 Axes>"
      ]
     },
     "metadata": {
      "needs_background": "light"
     },
     "output_type": "display_data"
    }
   ],
   "source": [
    "plt.bar(x = range(len(time_per_iter)),height = time_per_iter)\n",
    "plt.xlabel(\"# of Iterations (in 10,000s)\")\n",
    "plt.ylabel(\"Seconds per Iteration\")\n",
    "plt.show()"
   ]
  },
  {
   "cell_type": "code",
   "execution_count": null,
   "metadata": {},
   "outputs": [],
   "source": []
  }
 ],
 "metadata": {
  "kernelspec": {
   "display_name": "base",
   "language": "python",
   "name": "python3"
  },
  "language_info": {
   "codemirror_mode": {
    "name": "ipython",
    "version": 3
   },
   "file_extension": ".py",
   "mimetype": "text/x-python",
   "name": "python",
   "nbconvert_exporter": "python",
   "pygments_lexer": "ipython3",
   "version": "3.8.8"
  }
 },
 "nbformat": 4,
 "nbformat_minor": 2
}
